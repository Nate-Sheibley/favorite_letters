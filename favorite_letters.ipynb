{
 "cells": [
  {
   "cell_type": "code",
   "execution_count": 1,
   "metadata": {},
   "outputs": [
    {
     "name": "stdout",
     "output_type": "stream",
     "text": [
      "Requirement already satisfied: pandas in ./.venv/lib/python3.13/site-packages (2.2.3)\n",
      "Requirement already satisfied: matplotlib in ./.venv/lib/python3.13/site-packages (3.10.0)\n",
      "Requirement already satisfied: seaborn in ./.venv/lib/python3.13/site-packages (0.13.2)\n",
      "Requirement already satisfied: altair in ./.venv/lib/python3.13/site-packages (5.5.0)\n",
      "Requirement already satisfied: pingouin in ./.venv/lib/python3.13/site-packages (0.5.5)\n",
      "Requirement already satisfied: numpy>=1.26.0 in ./.venv/lib/python3.13/site-packages (from pandas) (2.2.3)\n",
      "Requirement already satisfied: python-dateutil>=2.8.2 in ./.venv/lib/python3.13/site-packages (from pandas) (2.9.0.post0)\n",
      "Requirement already satisfied: pytz>=2020.1 in ./.venv/lib/python3.13/site-packages (from pandas) (2025.1)\n",
      "Requirement already satisfied: tzdata>=2022.7 in ./.venv/lib/python3.13/site-packages (from pandas) (2025.1)\n",
      "Requirement already satisfied: contourpy>=1.0.1 in ./.venv/lib/python3.13/site-packages (from matplotlib) (1.3.1)\n",
      "Requirement already satisfied: cycler>=0.10 in ./.venv/lib/python3.13/site-packages (from matplotlib) (0.12.1)\n",
      "Requirement already satisfied: fonttools>=4.22.0 in ./.venv/lib/python3.13/site-packages (from matplotlib) (4.56.0)\n",
      "Requirement already satisfied: kiwisolver>=1.3.1 in ./.venv/lib/python3.13/site-packages (from matplotlib) (1.4.8)\n",
      "Requirement already satisfied: packaging>=20.0 in ./.venv/lib/python3.13/site-packages (from matplotlib) (24.2)\n",
      "Requirement already satisfied: pillow>=8 in ./.venv/lib/python3.13/site-packages (from matplotlib) (11.1.0)\n",
      "Requirement already satisfied: pyparsing>=2.3.1 in ./.venv/lib/python3.13/site-packages (from matplotlib) (3.2.1)\n",
      "Requirement already satisfied: jinja2 in ./.venv/lib/python3.13/site-packages (from altair) (3.1.5)\n",
      "Requirement already satisfied: jsonschema>=3.0 in ./.venv/lib/python3.13/site-packages (from altair) (4.23.0)\n",
      "Requirement already satisfied: narwhals>=1.14.2 in ./.venv/lib/python3.13/site-packages (from altair) (1.26.0)\n",
      "Requirement already satisfied: typing-extensions>=4.10.0 in ./.venv/lib/python3.13/site-packages (from altair) (4.12.2)\n",
      "Requirement already satisfied: pandas-flavor in ./.venv/lib/python3.13/site-packages (from pingouin) (0.6.0)\n",
      "Requirement already satisfied: scikit-learn>=1.2 in ./.venv/lib/python3.13/site-packages (from pingouin) (1.6.1)\n",
      "Requirement already satisfied: scipy in ./.venv/lib/python3.13/site-packages (from pingouin) (1.15.2)\n",
      "Requirement already satisfied: statsmodels in ./.venv/lib/python3.13/site-packages (from pingouin) (0.14.4)\n",
      "Requirement already satisfied: tabulate in ./.venv/lib/python3.13/site-packages (from pingouin) (0.9.0)\n",
      "Requirement already satisfied: attrs>=22.2.0 in ./.venv/lib/python3.13/site-packages (from jsonschema>=3.0->altair) (25.1.0)\n",
      "Requirement already satisfied: jsonschema-specifications>=2023.03.6 in ./.venv/lib/python3.13/site-packages (from jsonschema>=3.0->altair) (2024.10.1)\n",
      "Requirement already satisfied: referencing>=0.28.4 in ./.venv/lib/python3.13/site-packages (from jsonschema>=3.0->altair) (0.36.2)\n",
      "Requirement already satisfied: rpds-py>=0.7.1 in ./.venv/lib/python3.13/site-packages (from jsonschema>=3.0->altair) (0.22.3)\n",
      "Requirement already satisfied: six>=1.5 in ./.venv/lib/python3.13/site-packages (from python-dateutil>=2.8.2->pandas) (1.17.0)\n",
      "Requirement already satisfied: joblib>=1.2.0 in ./.venv/lib/python3.13/site-packages (from scikit-learn>=1.2->pingouin) (1.4.2)\n",
      "Requirement already satisfied: threadpoolctl>=3.1.0 in ./.venv/lib/python3.13/site-packages (from scikit-learn>=1.2->pingouin) (3.5.0)\n",
      "Requirement already satisfied: MarkupSafe>=2.0 in ./.venv/lib/python3.13/site-packages (from jinja2->altair) (3.0.2)\n",
      "Requirement already satisfied: xarray in ./.venv/lib/python3.13/site-packages (from pandas-flavor->pingouin) (2025.1.2)\n",
      "Requirement already satisfied: patsy>=0.5.6 in ./.venv/lib/python3.13/site-packages (from statsmodels->pingouin) (1.0.1)\n"
     ]
    }
   ],
   "source": [
    "!pip install pandas matplotlib seaborn altair pingouin"
   ]
  },
  {
   "cell_type": "code",
   "execution_count": 2,
   "metadata": {},
   "outputs": [],
   "source": [
    "import pathlib as plib\n",
    "from tabulate import tabulate\n",
    "\n",
    "import pandas as pd\n",
    "\n",
    "import scipy.stats as st\n",
    "import pingouin as pg # for post-host pairwise test\n",
    "from statsmodels.stats.anova import AnovaRM # for anova test\n",
    "\n",
    "import matplotlib.pyplot as plt\n",
    "import seaborn as sns\n",
    "sns.set_theme(style=\"whitegrid\")"
   ]
  },
  {
   "cell_type": "code",
   "execution_count": 3,
   "metadata": {},
   "outputs": [
    {
     "name": "stdout",
     "output_type": "stream",
     "text": [
      "Path is project root\n"
     ]
    }
   ],
   "source": [
    "cwd = plib.Path.cwd()\n",
    "\n",
    "if cwd.name == 'favorite_letters':\n",
    "    print(\"Path is project root\")\n",
    "else:\n",
    "    print('Current Working Directory is:', cwd)\n",
    "    print(\"Recomend navigating to the project root in terminal and opening your chosen idea via the command 'code .'\")\n",
    "    raise NameError('Please correct current working directory to the project root')\n",
    "\n",
    "data_path = plib.PurePath('letter_popularity_poll-Responses-sorted_data.csv')"
   ]
  },
  {
   "cell_type": "code",
   "execution_count": 4,
   "metadata": {},
   "outputs": [
    {
     "data": {
      "text/html": [
       "<div>\n",
       "<style scoped>\n",
       "    .dataframe tbody tr th:only-of-type {\n",
       "        vertical-align: middle;\n",
       "    }\n",
       "\n",
       "    .dataframe tbody tr th {\n",
       "        vertical-align: top;\n",
       "    }\n",
       "\n",
       "    .dataframe thead th {\n",
       "        text-align: right;\n",
       "    }\n",
       "</style>\n",
       "<table border=\"1\" class=\"dataframe\">\n",
       "  <thead>\n",
       "    <tr style=\"text-align: right;\">\n",
       "      <th></th>\n",
       "      <th>letter</th>\n",
       "      <th>codepoint</th>\n",
       "      <th>block</th>\n",
       "      <th>name</th>\n",
       "      <th>0</th>\n",
       "      <th>1</th>\n",
       "      <th>2</th>\n",
       "      <th>3</th>\n",
       "      <th>4</th>\n",
       "      <th>5</th>\n",
       "      <th>6</th>\n",
       "      <th>average</th>\n",
       "      <th>standard dev.</th>\n",
       "      <th>ratings</th>\n",
       "      <th>tier</th>\n",
       "    </tr>\n",
       "  </thead>\n",
       "  <tbody>\n",
       "    <tr>\n",
       "      <th>1173</th>\n",
       "      <td>Ṹ</td>\n",
       "      <td>7800</td>\n",
       "      <td>Latin Extended Additional</td>\n",
       "      <td>Ṹ (LATIN CAPITAL LETTER U WITH TILDE AND ACUTE)</td>\n",
       "      <td>19</td>\n",
       "      <td>22</td>\n",
       "      <td>12</td>\n",
       "      <td>9</td>\n",
       "      <td>2</td>\n",
       "      <td>2</td>\n",
       "      <td>1</td>\n",
       "      <td>1.44776</td>\n",
       "      <td>1.39570</td>\n",
       "      <td>67</td>\n",
       "      <td>D</td>\n",
       "    </tr>\n",
       "    <tr>\n",
       "      <th>1174</th>\n",
       "      <td>ấ</td>\n",
       "      <td>7845</td>\n",
       "      <td>Latin Extended Additional</td>\n",
       "      <td>ấ (LATIN SMALL LETTER A WITH CIRCUMFLEX AND AC...</td>\n",
       "      <td>22</td>\n",
       "      <td>22</td>\n",
       "      <td>12</td>\n",
       "      <td>8</td>\n",
       "      <td>1</td>\n",
       "      <td>1</td>\n",
       "      <td>3</td>\n",
       "      <td>1.40580</td>\n",
       "      <td>1.50801</td>\n",
       "      <td>69</td>\n",
       "      <td>D</td>\n",
       "    </tr>\n",
       "    <tr>\n",
       "      <th>1175</th>\n",
       "      <td>Ễ</td>\n",
       "      <td>7876</td>\n",
       "      <td>Latin Extended Additional</td>\n",
       "      <td>Ễ (LATIN CAPITAL LETTER E WITH CIRCUMFLEX AND ...</td>\n",
       "      <td>24</td>\n",
       "      <td>22</td>\n",
       "      <td>15</td>\n",
       "      <td>6</td>\n",
       "      <td>3</td>\n",
       "      <td>1</td>\n",
       "      <td>2</td>\n",
       "      <td>1.35616</td>\n",
       "      <td>1.42760</td>\n",
       "      <td>73</td>\n",
       "      <td>D</td>\n",
       "    </tr>\n",
       "  </tbody>\n",
       "</table>\n",
       "</div>"
      ],
      "text/plain": [
       "     letter  codepoint                      block  \\\n",
       "1173      Ṹ       7800  Latin Extended Additional   \n",
       "1174      ấ       7845  Latin Extended Additional   \n",
       "1175      Ễ       7876  Latin Extended Additional   \n",
       "\n",
       "                                                   name   0   1   2  3  4  5  \\\n",
       "1173    Ṹ (LATIN CAPITAL LETTER U WITH TILDE AND ACUTE)  19  22  12  9  2  2   \n",
       "1174  ấ (LATIN SMALL LETTER A WITH CIRCUMFLEX AND AC...  22  22  12  8  1  1   \n",
       "1175  Ễ (LATIN CAPITAL LETTER E WITH CIRCUMFLEX AND ...  24  22  15  6  3  1   \n",
       "\n",
       "      6  average  standard dev.  ratings tier  \n",
       "1173  1  1.44776        1.39570       67    D  \n",
       "1174  3  1.40580        1.50801       69    D  \n",
       "1175  2  1.35616        1.42760       73    D  "
      ]
     },
     "execution_count": 4,
     "metadata": {},
     "output_type": "execute_result"
    }
   ],
   "source": [
    "data = pd.read_csv(data_path)\n",
    "data.tail(3)"
   ]
  },
  {
   "cell_type": "code",
   "execution_count": 5,
   "metadata": {},
   "outputs": [
    {
     "name": "stdout",
     "output_type": "stream",
     "text": [
      "<class 'pandas.core.frame.DataFrame'>\n",
      "RangeIndex: 1176 entries, 0 to 1175\n",
      "Data columns (total 15 columns):\n",
      " #   Column         Non-Null Count  Dtype  \n",
      "---  ------         --------------  -----  \n",
      " 0   letter         1176 non-null   object \n",
      " 1   codepoint      1176 non-null   int64  \n",
      " 2   block          1176 non-null   object \n",
      " 3   name           1176 non-null   object \n",
      " 4   0              1176 non-null   int64  \n",
      " 5   1              1176 non-null   int64  \n",
      " 6   2              1176 non-null   int64  \n",
      " 7   3              1176 non-null   int64  \n",
      " 8   4              1176 non-null   int64  \n",
      " 9   5              1176 non-null   int64  \n",
      " 10  6              1176 non-null   int64  \n",
      " 11  average        1176 non-null   float64\n",
      " 12  standard dev.  1176 non-null   float64\n",
      " 13  ratings        1176 non-null   int64  \n",
      " 14  tier           1176 non-null   object \n",
      "dtypes: float64(2), int64(9), object(4)\n",
      "memory usage: 137.9+ KB\n"
     ]
    }
   ],
   "source": [
    "data.info()"
   ]
  },
  {
   "cell_type": "markdown",
   "metadata": {},
   "source": [
    "# TODO: describe describe"
   ]
  },
  {
   "cell_type": "code",
   "execution_count": 6,
   "metadata": {},
   "outputs": [
    {
     "data": {
      "text/html": [
       "<div>\n",
       "<style scoped>\n",
       "    .dataframe tbody tr th:only-of-type {\n",
       "        vertical-align: middle;\n",
       "    }\n",
       "\n",
       "    .dataframe tbody tr th {\n",
       "        vertical-align: top;\n",
       "    }\n",
       "\n",
       "    .dataframe thead th {\n",
       "        text-align: right;\n",
       "    }\n",
       "</style>\n",
       "<table border=\"1\" class=\"dataframe\">\n",
       "  <thead>\n",
       "    <tr style=\"text-align: right;\">\n",
       "      <th></th>\n",
       "      <th>codepoint</th>\n",
       "      <th>0</th>\n",
       "      <th>1</th>\n",
       "      <th>2</th>\n",
       "      <th>3</th>\n",
       "      <th>4</th>\n",
       "      <th>5</th>\n",
       "      <th>6</th>\n",
       "      <th>average</th>\n",
       "      <th>standard dev.</th>\n",
       "      <th>ratings</th>\n",
       "    </tr>\n",
       "  </thead>\n",
       "  <tbody>\n",
       "    <tr>\n",
       "      <th>count</th>\n",
       "      <td>1176.000000</td>\n",
       "      <td>1176.000000</td>\n",
       "      <td>1176.000000</td>\n",
       "      <td>1176.000000</td>\n",
       "      <td>1176.000000</td>\n",
       "      <td>1176.000000</td>\n",
       "      <td>1176.000000</td>\n",
       "      <td>1176.000000</td>\n",
       "      <td>1176.000000</td>\n",
       "      <td>1176.000000</td>\n",
       "      <td>1176.000000</td>\n",
       "    </tr>\n",
       "    <tr>\n",
       "      <th>mean</th>\n",
       "      <td>15330.961735</td>\n",
       "      <td>7.880952</td>\n",
       "      <td>12.798469</td>\n",
       "      <td>13.196429</td>\n",
       "      <td>14.121599</td>\n",
       "      <td>11.479592</td>\n",
       "      <td>7.392007</td>\n",
       "      <td>7.800170</td>\n",
       "      <td>2.778416</td>\n",
       "      <td>1.658098</td>\n",
       "      <td>74.669218</td>\n",
       "    </tr>\n",
       "    <tr>\n",
       "      <th>std</th>\n",
       "      <td>25235.732055</td>\n",
       "      <td>4.697608</td>\n",
       "      <td>5.967232</td>\n",
       "      <td>4.712466</td>\n",
       "      <td>4.904155</td>\n",
       "      <td>5.966824</td>\n",
       "      <td>5.512098</td>\n",
       "      <td>6.682084</td>\n",
       "      <td>0.711294</td>\n",
       "      <td>0.173744</td>\n",
       "      <td>9.312829</td>\n",
       "    </tr>\n",
       "    <tr>\n",
       "      <th>min</th>\n",
       "      <td>65.000000</td>\n",
       "      <td>0.000000</td>\n",
       "      <td>0.000000</td>\n",
       "      <td>1.000000</td>\n",
       "      <td>3.000000</td>\n",
       "      <td>0.000000</td>\n",
       "      <td>0.000000</td>\n",
       "      <td>1.000000</td>\n",
       "      <td>1.356160</td>\n",
       "      <td>1.220240</td>\n",
       "      <td>42.000000</td>\n",
       "    </tr>\n",
       "    <tr>\n",
       "      <th>25%</th>\n",
       "      <td>440.750000</td>\n",
       "      <td>4.000000</td>\n",
       "      <td>8.000000</td>\n",
       "      <td>10.000000</td>\n",
       "      <td>11.000000</td>\n",
       "      <td>7.000000</td>\n",
       "      <td>3.000000</td>\n",
       "      <td>3.000000</td>\n",
       "      <td>2.219498</td>\n",
       "      <td>1.533622</td>\n",
       "      <td>69.750000</td>\n",
       "    </tr>\n",
       "    <tr>\n",
       "      <th>50%</th>\n",
       "      <td>7552.500000</td>\n",
       "      <td>7.000000</td>\n",
       "      <td>13.000000</td>\n",
       "      <td>13.000000</td>\n",
       "      <td>13.000000</td>\n",
       "      <td>11.000000</td>\n",
       "      <td>6.000000</td>\n",
       "      <td>6.000000</td>\n",
       "      <td>2.684210</td>\n",
       "      <td>1.647065</td>\n",
       "      <td>75.000000</td>\n",
       "    </tr>\n",
       "    <tr>\n",
       "      <th>75%</th>\n",
       "      <td>11371.250000</td>\n",
       "      <td>10.250000</td>\n",
       "      <td>17.000000</td>\n",
       "      <td>16.000000</td>\n",
       "      <td>17.000000</td>\n",
       "      <td>16.000000</td>\n",
       "      <td>11.000000</td>\n",
       "      <td>10.000000</td>\n",
       "      <td>3.329030</td>\n",
       "      <td>1.765290</td>\n",
       "      <td>80.000000</td>\n",
       "    </tr>\n",
       "    <tr>\n",
       "      <th>max</th>\n",
       "      <td>122666.000000</td>\n",
       "      <td>29.000000</td>\n",
       "      <td>29.000000</td>\n",
       "      <td>27.000000</td>\n",
       "      <td>37.000000</td>\n",
       "      <td>30.000000</td>\n",
       "      <td>28.000000</td>\n",
       "      <td>53.000000</td>\n",
       "      <td>4.724140</td>\n",
       "      <td>2.364680</td>\n",
       "      <td>107.000000</td>\n",
       "    </tr>\n",
       "  </tbody>\n",
       "</table>\n",
       "</div>"
      ],
      "text/plain": [
       "           codepoint            0            1            2            3  \\\n",
       "count    1176.000000  1176.000000  1176.000000  1176.000000  1176.000000   \n",
       "mean    15330.961735     7.880952    12.798469    13.196429    14.121599   \n",
       "std     25235.732055     4.697608     5.967232     4.712466     4.904155   \n",
       "min        65.000000     0.000000     0.000000     1.000000     3.000000   \n",
       "25%       440.750000     4.000000     8.000000    10.000000    11.000000   \n",
       "50%      7552.500000     7.000000    13.000000    13.000000    13.000000   \n",
       "75%     11371.250000    10.250000    17.000000    16.000000    17.000000   \n",
       "max    122666.000000    29.000000    29.000000    27.000000    37.000000   \n",
       "\n",
       "                 4            5            6      average  standard dev.  \\\n",
       "count  1176.000000  1176.000000  1176.000000  1176.000000    1176.000000   \n",
       "mean     11.479592     7.392007     7.800170     2.778416       1.658098   \n",
       "std       5.966824     5.512098     6.682084     0.711294       0.173744   \n",
       "min       0.000000     0.000000     1.000000     1.356160       1.220240   \n",
       "25%       7.000000     3.000000     3.000000     2.219498       1.533622   \n",
       "50%      11.000000     6.000000     6.000000     2.684210       1.647065   \n",
       "75%      16.000000    11.000000    10.000000     3.329030       1.765290   \n",
       "max      30.000000    28.000000    53.000000     4.724140       2.364680   \n",
       "\n",
       "           ratings  \n",
       "count  1176.000000  \n",
       "mean     74.669218  \n",
       "std       9.312829  \n",
       "min      42.000000  \n",
       "25%      69.750000  \n",
       "50%      75.000000  \n",
       "75%      80.000000  \n",
       "max     107.000000  "
      ]
     },
     "execution_count": 6,
     "metadata": {},
     "output_type": "execute_result"
    }
   ],
   "source": [
    "describe_df = data.describe()\n",
    "describe_df"
   ]
  },
  {
   "cell_type": "code",
   "execution_count": 7,
   "metadata": {},
   "outputs": [
    {
     "data": {
      "text/html": [
       "<div>\n",
       "<style scoped>\n",
       "    .dataframe tbody tr th:only-of-type {\n",
       "        vertical-align: middle;\n",
       "    }\n",
       "\n",
       "    .dataframe tbody tr th {\n",
       "        vertical-align: top;\n",
       "    }\n",
       "\n",
       "    .dataframe thead th {\n",
       "        text-align: right;\n",
       "    }\n",
       "</style>\n",
       "<table border=\"1\" class=\"dataframe\">\n",
       "  <thead>\n",
       "    <tr style=\"text-align: right;\">\n",
       "      <th></th>\n",
       "      <th>rating</th>\n",
       "      <th>count</th>\n",
       "      <th>mean</th>\n",
       "      <th>std</th>\n",
       "      <th>min</th>\n",
       "      <th>25%</th>\n",
       "      <th>50%</th>\n",
       "      <th>75%</th>\n",
       "      <th>max</th>\n",
       "      <th>lower_bound</th>\n",
       "      <th>upper_bound</th>\n",
       "    </tr>\n",
       "  </thead>\n",
       "  <tbody>\n",
       "    <tr>\n",
       "      <th>0</th>\n",
       "      <td>0</td>\n",
       "      <td>1176.0</td>\n",
       "      <td>7.880952</td>\n",
       "      <td>4.697608</td>\n",
       "      <td>0.0</td>\n",
       "      <td>4.0</td>\n",
       "      <td>7.0</td>\n",
       "      <td>10.25</td>\n",
       "      <td>29.0</td>\n",
       "      <td>3.183345</td>\n",
       "      <td>12.578560</td>\n",
       "    </tr>\n",
       "    <tr>\n",
       "      <th>1</th>\n",
       "      <td>1</td>\n",
       "      <td>1176.0</td>\n",
       "      <td>12.798469</td>\n",
       "      <td>5.967232</td>\n",
       "      <td>0.0</td>\n",
       "      <td>8.0</td>\n",
       "      <td>13.0</td>\n",
       "      <td>17.00</td>\n",
       "      <td>29.0</td>\n",
       "      <td>6.831237</td>\n",
       "      <td>18.765702</td>\n",
       "    </tr>\n",
       "    <tr>\n",
       "      <th>2</th>\n",
       "      <td>2</td>\n",
       "      <td>1176.0</td>\n",
       "      <td>13.196429</td>\n",
       "      <td>4.712466</td>\n",
       "      <td>1.0</td>\n",
       "      <td>10.0</td>\n",
       "      <td>13.0</td>\n",
       "      <td>16.00</td>\n",
       "      <td>27.0</td>\n",
       "      <td>8.483962</td>\n",
       "      <td>17.908895</td>\n",
       "    </tr>\n",
       "    <tr>\n",
       "      <th>3</th>\n",
       "      <td>3</td>\n",
       "      <td>1176.0</td>\n",
       "      <td>14.121599</td>\n",
       "      <td>4.904155</td>\n",
       "      <td>3.0</td>\n",
       "      <td>11.0</td>\n",
       "      <td>13.0</td>\n",
       "      <td>17.00</td>\n",
       "      <td>37.0</td>\n",
       "      <td>9.217444</td>\n",
       "      <td>19.025753</td>\n",
       "    </tr>\n",
       "    <tr>\n",
       "      <th>4</th>\n",
       "      <td>4</td>\n",
       "      <td>1176.0</td>\n",
       "      <td>11.479592</td>\n",
       "      <td>5.966824</td>\n",
       "      <td>0.0</td>\n",
       "      <td>7.0</td>\n",
       "      <td>11.0</td>\n",
       "      <td>16.00</td>\n",
       "      <td>30.0</td>\n",
       "      <td>5.512768</td>\n",
       "      <td>17.446416</td>\n",
       "    </tr>\n",
       "    <tr>\n",
       "      <th>5</th>\n",
       "      <td>5</td>\n",
       "      <td>1176.0</td>\n",
       "      <td>7.392007</td>\n",
       "      <td>5.512098</td>\n",
       "      <td>0.0</td>\n",
       "      <td>3.0</td>\n",
       "      <td>6.0</td>\n",
       "      <td>11.00</td>\n",
       "      <td>28.0</td>\n",
       "      <td>1.879909</td>\n",
       "      <td>12.904105</td>\n",
       "    </tr>\n",
       "    <tr>\n",
       "      <th>6</th>\n",
       "      <td>6</td>\n",
       "      <td>1176.0</td>\n",
       "      <td>7.800170</td>\n",
       "      <td>6.682084</td>\n",
       "      <td>1.0</td>\n",
       "      <td>3.0</td>\n",
       "      <td>6.0</td>\n",
       "      <td>10.00</td>\n",
       "      <td>53.0</td>\n",
       "      <td>1.118086</td>\n",
       "      <td>14.482254</td>\n",
       "    </tr>\n",
       "  </tbody>\n",
       "</table>\n",
       "</div>"
      ],
      "text/plain": [
       "  rating   count       mean       std  min   25%   50%    75%   max  \\\n",
       "0      0  1176.0   7.880952  4.697608  0.0   4.0   7.0  10.25  29.0   \n",
       "1      1  1176.0  12.798469  5.967232  0.0   8.0  13.0  17.00  29.0   \n",
       "2      2  1176.0  13.196429  4.712466  1.0  10.0  13.0  16.00  27.0   \n",
       "3      3  1176.0  14.121599  4.904155  3.0  11.0  13.0  17.00  37.0   \n",
       "4      4  1176.0  11.479592  5.966824  0.0   7.0  11.0  16.00  30.0   \n",
       "5      5  1176.0   7.392007  5.512098  0.0   3.0   6.0  11.00  28.0   \n",
       "6      6  1176.0   7.800170  6.682084  1.0   3.0   6.0  10.00  53.0   \n",
       "\n",
       "   lower_bound  upper_bound  \n",
       "0     3.183345    12.578560  \n",
       "1     6.831237    18.765702  \n",
       "2     8.483962    17.908895  \n",
       "3     9.217444    19.025753  \n",
       "4     5.512768    17.446416  \n",
       "5     1.879909    12.904105  \n",
       "6     1.118086    14.482254  "
      ]
     },
     "execution_count": 7,
     "metadata": {},
     "output_type": "execute_result"
    }
   ],
   "source": [
    "plot_describe_df = describe_df.transpose().loc['0':'6'].reset_index()\n",
    "plot_describe_df = plot_describe_df.rename(columns={'index':'rating'})\n",
    "plot_describe_df['lower_bound']  = plot_describe_df['mean'] - plot_describe_df['std']\n",
    "plot_describe_df['upper_bound']  = plot_describe_df['mean'] + plot_describe_df['std']\n",
    "plot_describe_df"
   ]
  },
  {
   "cell_type": "markdown",
   "metadata": {},
   "source": [
    "# Distributions of average ratings and assigned Tier"
   ]
  },
  {
   "cell_type": "markdown",
   "metadata": {},
   "source": [
    "\n",
    "## Skew and Kurtosis\n",
    "Skew of averages is 0.376, fairly low. This distribution of averages is not considerably skewed, as can be seen in the plot, the median and mode are close together. Difference of 0.094, ~ 3% on observed scale.\n",
    "\n",
    "Negative kurtosis (-1) indicates our distributionof averages is considerably flatter than a normal distribution. This is not concerning as a distributions of averages is expected to be flatter than normal."
   ]
  },
  {
   "cell_type": "code",
   "execution_count": 8,
   "metadata": {},
   "outputs": [
    {
     "data": {
      "text/plain": [
       "array(['A', 'A-', 'B+', 'B', 'B-', 'C+', 'C', 'C-', 'D+', 'D'],\n",
       "      dtype=object)"
      ]
     },
     "execution_count": 8,
     "metadata": {},
     "output_type": "execute_result"
    }
   ],
   "source": [
    "tier_full = ['S+', 'S', 'S-', 'A+', 'A', 'A-', 'B+', 'B', 'B-', 'C+', 'C', 'C-', 'D+', 'D', 'D-', 'F']\n",
    "data['tier'].unique()"
   ]
  },
  {
   "cell_type": "code",
   "execution_count": 9,
   "metadata": {},
   "outputs": [
    {
     "data": {
      "image/png": "[encoded data removed]",
      "text/plain": [
       "<Figure size 640x480 with 1 Axes>"
      ]
     },
     "metadata": {},
     "output_type": "display_data"
    }
   ],
   "source": [
    "fig, ax = plt.subplots()\n",
    "sns.countplot(data=data, x='tier')\n",
    "\n",
    "ax.xaxis.set_inverted(True)\n",
    "ax.set_xlabel(\"Tier\")\n",
    "ax.set_title(\"Distribution of Average Ratings\")\n",
    "ax.grid(False, axis='x')\n",
    "sns.despine()\n",
    "fig.savefig(\"images/tier_dist_freq_plot\")"
   ]
  },
  {
   "cell_type": "code",
   "execution_count": 10,
   "metadata": {},
   "outputs": [
    {
     "name": "stdout",
     "output_type": "stream",
     "text": [
      "mean 2.778 | median 2.684\n",
      "mode\n"
     ]
    },
    {
     "data": {
      "text/html": [
       "<div>\n",
       "<style scoped>\n",
       "    .dataframe tbody tr th:only-of-type {\n",
       "        vertical-align: middle;\n",
       "    }\n",
       "\n",
       "    .dataframe tbody tr th {\n",
       "        vertical-align: top;\n",
       "    }\n",
       "\n",
       "    .dataframe thead th {\n",
       "        text-align: right;\n",
       "    }\n",
       "</style>\n",
       "<table border=\"1\" class=\"dataframe\">\n",
       "  <thead>\n",
       "    <tr style=\"text-align: right;\">\n",
       "      <th></th>\n",
       "      <th>average</th>\n",
       "      <th>freq</th>\n",
       "    </tr>\n",
       "  </thead>\n",
       "  <tbody>\n",
       "    <tr>\n",
       "      <th>0</th>\n",
       "      <td>3.50000</td>\n",
       "      <td>6</td>\n",
       "    </tr>\n",
       "    <tr>\n",
       "      <th>1</th>\n",
       "      <td>2.00000</td>\n",
       "      <td>6</td>\n",
       "    </tr>\n",
       "    <tr>\n",
       "      <th>2</th>\n",
       "      <td>1.85714</td>\n",
       "      <td>4</td>\n",
       "    </tr>\n",
       "  </tbody>\n",
       "</table>\n",
       "</div>"
      ],
      "text/plain": [
       "   average  freq\n",
       "0  3.50000     6\n",
       "1  2.00000     6\n",
       "2  1.85714     4"
      ]
     },
     "execution_count": 10,
     "metadata": {},
     "output_type": "execute_result"
    }
   ],
   "source": [
    "mean = round(data['average'].mean(), 3)\n",
    "median = round(data['average'].median(), 3)\n",
    "\n",
    "print('mean', mean, '| median', median)\n",
    "\n",
    "print('mode')\n",
    "data['average'].\\\n",
    "    value_counts().\\\n",
    "        sort_values(ascending=False).\\\n",
    "            rename('freq').\\\n",
    "                head(3)\\\n",
    "                    .reset_index()"
   ]
  },
  {
   "cell_type": "code",
   "execution_count": 11,
   "metadata": {},
   "outputs": [
    {
     "name": "stdout",
     "output_type": "stream",
     "text": [
      "16 potential tiers, only 10 applicable to data\n"
     ]
    },
    {
     "data": {
      "image/png": "[encoded data removed]",
      "text/plain": [
       "<Figure size 640x480 with 1 Axes>"
      ]
     },
     "metadata": {},
     "output_type": "display_data"
    }
   ],
   "source": [
    "print(f'{len(tier_full)} potential tiers, only 10 applicable to data')\n",
    "\n",
    "fig, ax = plt.subplots()\n",
    "sns.histplot(data=data, x='average', bins=10)\n",
    "\n",
    "# add median line\n",
    "ax.axvline(mean, color='r', linestyle='--', label='mean')\n",
    "# add mean line\n",
    "ax.axvline(median, color='g', linestyle='-',label='median')\n",
    "# add legend\n",
    "ax.legend()\n",
    "\n",
    "ax.set_xlabel(\"Average Rating\")\n",
    "ax.set_title(\"Distribution of Rating Averages\")\n",
    "ax.grid(False, axis='x')\n",
    "sns.despine()\n",
    "fig.savefig(\"images/rating_dist_histogram\")"
   ]
  },
  {
   "cell_type": "code",
   "execution_count": 12,
   "metadata": {},
   "outputs": [
    {
     "name": "stdout",
     "output_type": "stream",
     "text": [
      "Diff of Median and mean: -0.094\n"
     ]
    }
   ],
   "source": [
    "print('Diff of Median and mean:', round(median - mean, 3))"
   ]
  },
  {
   "cell_type": "code",
   "execution_count": 13,
   "metadata": {},
   "outputs": [
    {
     "name": "stdout",
     "output_type": "stream",
     "text": [
      "skew: 0.376 | kurtosis -1\n"
     ]
    }
   ],
   "source": [
    "skew_avgs = round(st.skew(data['average']), 3)\n",
    "kurtosis_avgs = round(st.kurtosis(data['average']))\n",
    "print('skew:', skew_avgs, '| kurtosis', kurtosis_avgs)"
   ]
  },
  {
   "cell_type": "markdown",
   "metadata": {},
   "source": [
    "# Distributions of each rating value"
   ]
  },
  {
   "cell_type": "markdown",
   "metadata": {},
   "source": [
    "## Skew and Kurtosis per rating value\n",
    "\n",
    "There  higher skew in the number of ratings on the extreme values. Dead center, high, and low.\n",
    "\n",
    "All skewness present is towards high frequency values, indidcating there were no unsually small amount of measurements.\n",
    "\n",
    "This skew can also be seen in the kurtosis of these values, where 6 has a very long positive tails.\n",
    "\n",
    "Both features are obvious in the violin plots.\n",
    "\n",
    "## Favorite and default bias\n",
    "\n",
    "Additionally, a strong 'favorites' bias was found, where popular characters garnered the most votes, though a perfectly middle 'default' vote also saw a higher frequency.\n",
    "\n",
    "Violin plot is misleading as there are no values below 0 in the dataset."
   ]
  },
  {
   "cell_type": "code",
   "execution_count": 19,
   "metadata": {},
   "outputs": [
    {
     "data": {
      "image/png": "[encoded data removed]",
      "text/plain": [
       "<Figure size 640x480 with 1 Axes>"
      ]
     },
     "metadata": {},
     "output_type": "display_data"
    }
   ],
   "source": [
    "# Pull out a specific subset of columns\n",
    "used_columns = ['0', '1', '2', '3', '4', '5', '6']\n",
    "df = data.loc[:, used_columns]\n",
    "\n",
    "# Set up the matplotlib figure\n",
    "fig, ax = plt.subplots()\n",
    "\n",
    "# Draw a violinplot with a narrower bandwidth than the default\n",
    "sns.boxplot(data=df)\n",
    "\n",
    "# Finalize the figure\n",
    "ax.set_xlabel(\"Rating Value\")\n",
    "ax.set_ylabel(\"Count of Ratings\")\n",
    "ax.set_title(\"Distribution of Ratings by Value\")\n",
    "sns.despine()\n",
    "fig.savefig(\"images/Ratings_distributions_box\")"
   ]
  },
  {
   "cell_type": "code",
   "execution_count": null,
   "metadata": {},
   "outputs": [
    {
     "data": {
      "image/png": "[encoded data removed]",
      "text/plain": [
       "<Figure size 640x480 with 1 Axes>"
      ]
     },
     "metadata": {},
     "output_type": "display_data"
    }
   ],
   "source": [
    "# Pull out a specific subset of columns\n",
    "used_columns = ['0', '1', '2', '3', '4', '5', '6']\n",
    "df = data.loc[:, used_columns]\n",
    "\n",
    "# Set up the matplotlib figure\n",
    "fig, ax = plt.subplots()\n",
    "\n",
    "# Draw a violinplot with a narrower bandwidth than the default\n",
    "sns.violinplot(data=df)\n",
    "\n",
    "# Finalize the figure\n",
    "ax.set_xlabel(\"Rating Value\")\n",
    "ax.set_ylabel(\"Count of Ratings\")\n",
    "ax.set_title(\"Distribution of Ratings by Value\")\n",
    "sns.despine()\n",
    "fig.savefig(\"images/Ratings_distributions_violin\")"
   ]
  },
  {
   "cell_type": "code",
   "execution_count": null,
   "metadata": {},
   "outputs": [
    {
     "ename": "AttributeError",
     "evalue": "'DataFrame' object has no attribute 'cut'",
     "output_type": "error",
     "traceback": [
      "\u001b[0;31m---------------------------------------------------------------------------\u001b[0m",
      "\u001b[0;31mAttributeError\u001b[0m                            Traceback (most recent call last)",
      "\u001b[0;32m/tmp/ipykernel_40108/2663875109.py\u001b[0m in \u001b[0;36m?\u001b[0;34m()\u001b[0m\n\u001b[1;32m      1\u001b[0m \u001b[0;31m# Pull out a specific subset of columns\u001b[0m\u001b[0;34m\u001b[0m\u001b[0;34m\u001b[0m\u001b[0m\n\u001b[1;32m      2\u001b[0m \u001b[0mused_columns\u001b[0m \u001b[0;34m=\u001b[0m \u001b[0;34m[\u001b[0m\u001b[0;34m'0'\u001b[0m\u001b[0;34m,\u001b[0m \u001b[0;34m'1'\u001b[0m\u001b[0;34m,\u001b[0m \u001b[0;34m'2'\u001b[0m\u001b[0;34m,\u001b[0m \u001b[0;34m'3'\u001b[0m\u001b[0;34m,\u001b[0m \u001b[0;34m'4'\u001b[0m\u001b[0;34m,\u001b[0m \u001b[0;34m'5'\u001b[0m\u001b[0;34m,\u001b[0m \u001b[0;34m'6'\u001b[0m\u001b[0;34m]\u001b[0m\u001b[0;34m\u001b[0m\u001b[0;34m\u001b[0m\u001b[0m\n\u001b[1;32m      3\u001b[0m \u001b[0mdf\u001b[0m \u001b[0;34m=\u001b[0m \u001b[0mdata\u001b[0m\u001b[0;34m.\u001b[0m\u001b[0mloc\u001b[0m\u001b[0;34m[\u001b[0m\u001b[0;34m:\u001b[0m\u001b[0;34m,\u001b[0m \u001b[0mused_columns\u001b[0m\u001b[0;34m]\u001b[0m\u001b[0;34m\u001b[0m\u001b[0;34m\u001b[0m\u001b[0m\n\u001b[1;32m      4\u001b[0m \u001b[0;34m\u001b[0m\u001b[0m\n\u001b[0;32m----> 5\u001b[0;31m \u001b[0mbinned\u001b[0m \u001b[0;34m=\u001b[0m \u001b[0mdf\u001b[0m\u001b[0;34m.\u001b[0m\u001b[0mcut\u001b[0m\u001b[0;34m(\u001b[0m\u001b[0mrange\u001b[0m\u001b[0;34m(\u001b[0m\u001b[0;36m0\u001b[0m\u001b[0;34m,\u001b[0m \u001b[0;36m35\u001b[0m\u001b[0;34m,\u001b[0m \u001b[0;36m7\u001b[0m\u001b[0;34m)\u001b[0m\u001b[0;34m)\u001b[0m\u001b[0;34m\u001b[0m\u001b[0;34m\u001b[0m\u001b[0m\n\u001b[0m\u001b[1;32m      6\u001b[0m \u001b[0mbinned\u001b[0m\u001b[0;34m\u001b[0m\u001b[0;34m\u001b[0m\u001b[0m\n",
      "\u001b[0;32m~/Documents/coding_projects/portfolio/favorite_letters/.venv/lib/python3.13/site-packages/pandas/core/generic.py\u001b[0m in \u001b[0;36m?\u001b[0;34m(self, name)\u001b[0m\n\u001b[1;32m   6295\u001b[0m             \u001b[0;32mand\u001b[0m \u001b[0mname\u001b[0m \u001b[0;32mnot\u001b[0m \u001b[0;32min\u001b[0m \u001b[0mself\u001b[0m\u001b[0;34m.\u001b[0m\u001b[0m_accessors\u001b[0m\u001b[0;34m\u001b[0m\u001b[0;34m\u001b[0m\u001b[0m\n\u001b[1;32m   6296\u001b[0m             \u001b[0;32mand\u001b[0m \u001b[0mself\u001b[0m\u001b[0;34m.\u001b[0m\u001b[0m_info_axis\u001b[0m\u001b[0;34m.\u001b[0m\u001b[0m_can_hold_identifiers_and_holds_name\u001b[0m\u001b[0;34m(\u001b[0m\u001b[0mname\u001b[0m\u001b[0;34m)\u001b[0m\u001b[0;34m\u001b[0m\u001b[0;34m\u001b[0m\u001b[0m\n\u001b[1;32m   6297\u001b[0m         \u001b[0;34m)\u001b[0m\u001b[0;34m:\u001b[0m\u001b[0;34m\u001b[0m\u001b[0;34m\u001b[0m\u001b[0m\n\u001b[1;32m   6298\u001b[0m             \u001b[0;32mreturn\u001b[0m \u001b[0mself\u001b[0m\u001b[0;34m[\u001b[0m\u001b[0mname\u001b[0m\u001b[0;34m]\u001b[0m\u001b[0;34m\u001b[0m\u001b[0;34m\u001b[0m\u001b[0m\n\u001b[0;32m-> 6299\u001b[0;31m         \u001b[0;32mreturn\u001b[0m \u001b[0mobject\u001b[0m\u001b[0;34m.\u001b[0m\u001b[0m__getattribute__\u001b[0m\u001b[0;34m(\u001b[0m\u001b[0mself\u001b[0m\u001b[0;34m,\u001b[0m \u001b[0mname\u001b[0m\u001b[0;34m)\u001b[0m\u001b[0;34m\u001b[0m\u001b[0;34m\u001b[0m\u001b[0m\n\u001b[0m",
      "\u001b[0;31mAttributeError\u001b[0m: 'DataFrame' object has no attribute 'cut'"
     ]
    }
   ],
   "source": [
    "# Pull out a specific subset of columns\n",
    "used_columns = ['0', '1', '2', '3', '4', '5', '6']\n",
    "df = data.loc[:, used_columns]\n",
    "\n",
    "bins = range(0,55,)\n",
    "binned = pd.cut()\n",
    "binned"
   ]
  },
  {
   "cell_type": "code",
   "execution_count": null,
   "metadata": {},
   "outputs": [],
   "source": [
    "# Set up the matplotlib figure\n",
    "fig, ax = plt.subplots()\n",
    "\n",
    "# Draw a violinplot with a narrower bandwidth than the default\n",
    "sns.boxplot(data=binned)\n",
    "\n",
    "# Finalize the figure\n",
    "ax.set_xlabel(\"Rating Value\")\n",
    "ax.set_ylabel(\"Count of Ratings\")\n",
    "ax.set_title(\"Distribution of Ratings by Value\")\n",
    "sns.despine()\n",
    "fig.savefig(\"images/Ratings_distributions_box\")"
   ]
  },
  {
   "cell_type": "code",
   "execution_count": 16,
   "metadata": {},
   "outputs": [
    {
     "name": "stdout",
     "output_type": "stream",
     "text": [
      "No values > 35 in rating 0\n",
      "No values > 35 in rating 1\n",
      "No values > 35 in rating 2\n",
      "rating 3 \n",
      " ---  -  --  -----------  --------------------------  -  -  -  --  --  --  -  -------  -------  --  -\n",
      "174  H  72  Basic Latin  H (LATIN CAPITAL LETTER H)  3  1  6  37  13  12  9  3.58025  1.37717  81  B\n",
      "---  -  --  -----------  --------------------------  -  -  -  --  --  --  -  -------  -------  --  -\n",
      "No values > 35 in rating 4\n",
      "No values > 35 in rating 5\n",
      "rating 6 \n",
      " --  -  ----  -------------------  ---------------------------------------  -  -  -  --  --  --  --  -------  -------  ---  --\n",
      " 1  ɤ   612  IPA Extensions       ɤ (LATIN SMALL LETTER RAMS HORN)         3  4  4   5  19  26  41  4.69608  1.55932  102  A\n",
      " 2  ᴥ  7461  Phonetic Extensions  ᴥ (LATIN LETTER AIN)                     4  8  3   5  14  13  53  4.68     1.8306   100  A\n",
      " 3  ö   246  Latin-1 Supplement   ö (LATIN SMALL LETTER O WITH DIAERESIS)  2  4  3   7  18  11  37  4.63415  1.62171   82  A\n",
      " 4  Þ   222  Latin-1 Supplement   Þ (LATIN CAPITAL LETTER THORN)           2  4  4  14  15  27  36  4.55882  1.53232  102  A\n",
      "11  Æ   198  Latin-1 Supplement   Æ (LATIN CAPITAL LETTER AE)              6  6  5   7  21  17  41  4.38835  1.83235  103  A-\n",
      "--  -  ----  -------------------  ---------------------------------------  -  -  -  --  --  --  --  -------  -------  ---  --\n"
     ]
    }
   ],
   "source": [
    "\n",
    "cutoff = 35\n",
    "for rating in used_columns:\n",
    "    col = data[rating]\n",
    "    if not data[col > cutoff].empty:\n",
    "        print('rating', rating, '\\n', tabulate(data[col > cutoff]))\n",
    "    else:\n",
    "        print(f'No values > {cutoff} in rating {rating}')"
   ]
  },
  {
   "cell_type": "code",
   "execution_count": 17,
   "metadata": {},
   "outputs": [
    {
     "ename": "KeyError",
     "evalue": "'0'",
     "output_type": "error",
     "traceback": [
      "\u001b[0;31m---------------------------------------------------------------------------\u001b[0m",
      "\u001b[0;31mKeyError\u001b[0m                                  Traceback (most recent call last)",
      "Cell \u001b[0;32mIn[17], line 3\u001b[0m\n\u001b[1;32m      1\u001b[0m table \u001b[38;5;241m=\u001b[39m []\n\u001b[1;32m      2\u001b[0m \u001b[38;5;28;01mfor\u001b[39;00m rating \u001b[38;5;129;01min\u001b[39;00m used_columns:\n\u001b[0;32m----> 3\u001b[0m     col \u001b[38;5;241m=\u001b[39m \u001b[43mdf\u001b[49m\u001b[43m[\u001b[49m\u001b[43mrating\u001b[49m\u001b[43m]\u001b[49m\n\u001b[1;32m      4\u001b[0m     skew_avgs \u001b[38;5;241m=\u001b[39m \u001b[38;5;28mround\u001b[39m(st\u001b[38;5;241m.\u001b[39mskew(col), \u001b[38;5;241m3\u001b[39m)\n\u001b[1;32m      5\u001b[0m     kurtosis_avgs \u001b[38;5;241m=\u001b[39m \u001b[38;5;28mround\u001b[39m(st\u001b[38;5;241m.\u001b[39mkurtosis(col), \u001b[38;5;241m3\u001b[39m)\n",
      "File \u001b[0;32m~/Documents/coding_projects/portfolio/favorite_letters/.venv/lib/python3.13/site-packages/pandas/core/frame.py:4102\u001b[0m, in \u001b[0;36mDataFrame.__getitem__\u001b[0;34m(self, key)\u001b[0m\n\u001b[1;32m   4100\u001b[0m \u001b[38;5;28;01mif\u001b[39;00m \u001b[38;5;28mself\u001b[39m\u001b[38;5;241m.\u001b[39mcolumns\u001b[38;5;241m.\u001b[39mnlevels \u001b[38;5;241m>\u001b[39m \u001b[38;5;241m1\u001b[39m:\n\u001b[1;32m   4101\u001b[0m     \u001b[38;5;28;01mreturn\u001b[39;00m \u001b[38;5;28mself\u001b[39m\u001b[38;5;241m.\u001b[39m_getitem_multilevel(key)\n\u001b[0;32m-> 4102\u001b[0m indexer \u001b[38;5;241m=\u001b[39m \u001b[38;5;28;43mself\u001b[39;49m\u001b[38;5;241;43m.\u001b[39;49m\u001b[43mcolumns\u001b[49m\u001b[38;5;241;43m.\u001b[39;49m\u001b[43mget_loc\u001b[49m\u001b[43m(\u001b[49m\u001b[43mkey\u001b[49m\u001b[43m)\u001b[49m\n\u001b[1;32m   4103\u001b[0m \u001b[38;5;28;01mif\u001b[39;00m is_integer(indexer):\n\u001b[1;32m   4104\u001b[0m     indexer \u001b[38;5;241m=\u001b[39m [indexer]\n",
      "File \u001b[0;32m~/Documents/coding_projects/portfolio/favorite_letters/.venv/lib/python3.13/site-packages/pandas/core/indexes/range.py:417\u001b[0m, in \u001b[0;36mRangeIndex.get_loc\u001b[0;34m(self, key)\u001b[0m\n\u001b[1;32m    415\u001b[0m         \u001b[38;5;28;01mraise\u001b[39;00m \u001b[38;5;167;01mKeyError\u001b[39;00m(key) \u001b[38;5;28;01mfrom\u001b[39;00m\u001b[38;5;250m \u001b[39m\u001b[38;5;21;01merr\u001b[39;00m\n\u001b[1;32m    416\u001b[0m \u001b[38;5;28;01mif\u001b[39;00m \u001b[38;5;28misinstance\u001b[39m(key, Hashable):\n\u001b[0;32m--> 417\u001b[0m     \u001b[38;5;28;01mraise\u001b[39;00m \u001b[38;5;167;01mKeyError\u001b[39;00m(key)\n\u001b[1;32m    418\u001b[0m \u001b[38;5;28mself\u001b[39m\u001b[38;5;241m.\u001b[39m_check_indexing_error(key)\n\u001b[1;32m    419\u001b[0m \u001b[38;5;28;01mraise\u001b[39;00m \u001b[38;5;167;01mKeyError\u001b[39;00m(key)\n",
      "\u001b[0;31mKeyError\u001b[0m: '0'"
     ]
    }
   ],
   "source": [
    "table = []\n",
    "for rating in used_columns:\n",
    "    col = df[rating]\n",
    "    skew_avgs = round(st.skew(col), 3)\n",
    "    kurtosis_avgs = round(st.kurtosis(col), 3)\n",
    "    table.append((rating, skew_avgs, kurtosis_avgs))\n",
    "pd.DataFrame(table, columns=('rating','skew','kurtosis'))"
   ]
  },
  {
   "cell_type": "markdown",
   "metadata": {},
   "source": [
    "## Distribution of number of ratings is right skewed\n",
    "\n",
    "Average is\n",
    "Median is "
   ]
  },
  {
   "cell_type": "code",
   "execution_count": null,
   "metadata": {},
   "outputs": [],
   "source": []
  },
  {
   "cell_type": "code",
   "execution_count": null,
   "metadata": {},
   "outputs": [],
   "source": []
  }
 ],
 "metadata": {
  "kernelspec": {
   "display_name": ".venv",
   "language": "python",
   "name": "python3"
  },
  "language_info": {
   "codemirror_mode": {
    "name": "ipython",
    "version": 3
   },
   "file_extension": ".py",
   "mimetype": "text/x-python",
   "name": "python",
   "nbconvert_exporter": "python",
   "pygments_lexer": "ipython3",
   "version": "3.13.2"
  }
 },
 "nbformat": 4,
 "nbformat_minor": 2
}
